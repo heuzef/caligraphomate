{
 "cells": [
  {
   "cell_type": "markdown",
   "id": "1e230d25",
   "metadata": {},
   "source": [
    "# Fonctions pour créer les formes de bases en svg"
   ]
  },
  {
   "cell_type": "code",
   "execution_count": null,
   "id": "91aadf9c",
   "metadata": {},
   "outputs": [],
   "source": [
    "import svgwrite\n",
    "from svgwrite import Drawing, cm, mm\n",
    "\n",
    "A4_width = 297\n",
    "A4_height = 210\n",
    "A5_width = 210\n",
    "A5_height = 148\n",
    "\n",
    "dwg = Drawing(\n",
    "    'test.svg',\n",
    "    size=(f'{A4_width}mm', f'{A4_height}mm'),\n",
    "    viewBox=f'0 0 {A4_width} {A4_height}',\n",
    "    profile='full'\n",
    ")\n",
    "\n",
    "def rectangle(dwg, group, x, y, width, height, fill='none', stroke='white', rx=None, ry=None):\n",
    "    group.add(dwg.rect(insert=(x, y), size=(width, height), fill=fill, stroke=stroke, rx=rx, ry=ry))\n",
    "    \n",
    "def circle(dwg, group, cx, cy, r, fill='none', stroke='white'):\n",
    "    group.add(dwg.circle(center=(cx,cy), r=r, fill=fill, stroke=stroke))\n",
    "\n",
    "def line(dwg, group, x1, y1, x2, y2, stroke_width, stroke='white'):\n",
    "    group.add(dwg.line(start=(x1,y1), end=(x2,y2), stroke=stroke, stroke_width=stroke_width))\n",
    "\n",
    "def ellipse(dwg, group, cx, cy, rx, ry, fill='none', stroke='white'):\n",
    "    group.add(dwg.ellipse(center=(cx,cy), r=(rx,ry), fill=fill, stroke=stroke))\n",
    "\n",
    "def polyline(dwg, group, points, stroke_width, stroke='black', fill='none'):\n",
    "    group.add(dwg.polyline(points=points, stroke=stroke, stroke_width=stroke_width, fill=fill))\n",
    "\n",
    "def polygon(dwg, group, points, stroke_width, stroke='black', fill='none'):\n",
    "    group.add(dwg.polygon(points=points, stroke=stroke, stroke_width=stroke_width, fill=fill))\n",
    "\n",
    "\n",
    "x = (A4_width - A5_width) / 2\n",
    "y = (A4_height - A5_height) / 2\n",
    "\n",
    "zone_a5 = dwg.g(transform=f\"translate({x},{y})\")\n",
    "\n",
    "zone_a5.add(dwg.rect(insert=(0, 0), size=(A5_width, A5_height), fill='none', stroke='gray', stroke_dasharray=\"5,5\"))\n",
    "dwg.add(zone_a5)\n",
    "\n",
    "rectangle(dwg, zone_a5, x=10, y=10, width=A5_width - 20, height=A5_height - 20)\n",
    "\n",
    "circle(dwg, zone_a5, cx=40, cy=40, r=20)\n",
    "\n",
    "line(dwg, zone_a5, x1=1, y1=1, x2=A5_width - 10, y2=A5_height - 10, stroke_width=1)\n",
    "\n",
    "line(dwg, zone_a5, x1=1, y1=A5_height / 2, x2=A5_width - 10, y2=A5_height / 2, stroke_width=0.7)\n",
    "\n",
    "points_polyline = [(10, 10), (50, 40), (100, 25), (150, 60), (190, 45)]\n",
    "points_polygone = [(40, 40), (140, 40), (180, 90), (140, 130), (40, 130)]\n",
    "\n",
    "\n",
    "polyline(dwg, zone_a5, points_polyline, stroke_width=1)\n",
    "polygon(dwg, zone_a5, points_polygone, stroke_width=2)\n",
    "\n",
    "dwg.save()"
   ]
  },
  {
   "cell_type": "markdown",
   "id": "d8173470",
   "metadata": {},
   "source": [
    "Créer un fichier test.svg avec toutes les formes"
   ]
  }
 ],
 "metadata": {
  "language_info": {
   "name": "python"
  }
 },
 "nbformat": 4,
 "nbformat_minor": 5
}
