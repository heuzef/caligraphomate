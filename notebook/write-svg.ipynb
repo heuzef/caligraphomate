{
 "cells": [
  {
   "cell_type": "markdown",
   "id": "1e230d25",
   "metadata": {},
   "source": [
    "# Fonctions pour créer les formes de bases en svg"
   ]
  },
  {
   "cell_type": "code",
   "execution_count": null,
   "id": "91aadf9c",
   "metadata": {},
   "outputs": [],
   "source": [
    "import svgwrite\n",
    "from svgwrite import Drawing\n",
    "\n",
    "width_mm = 297\n",
    "height_mm = 210\n",
    "\n",
    "dwg = Drawing(\n",
    "    'test.svg',\n",
    "    size=(f'{width_mm}mm', f'{height_mm}mm'),\n",
    "    viewBox=f'0 0 {width_mm} {height_mm}',\n",
    "    profile='full'\n",
    ")\n",
    "\n",
    "def rectangle(dwg, x, y, width, height, fill='none', stroke='white', rx=None, ry=None):\n",
    "    dwg.add(dwg.rect(insert=(x, y), size=(width, height), fill=fill, stroke=stroke, rx=rx, ry=ry))\n",
    "    \n",
    "def circle(dwg, cx, cy, r, fill='none', stroke='white'):\n",
    "    dwg.add(dwg.circle(center=(cx,cy), r=r, fill=fill, stroke=stroke))\n",
    "\n",
    "def line(dwg, x1, y1, x2, y2, stroke_width, stroke='white'):\n",
    "    dwg.add(dwg.line(start=(x1,y1), end=(x2,y2), stroke=stroke, stroke_width=stroke_width))\n",
    "\n",
    "def ellipse(dwg, cx, cy, rx, ry, fill='none', stroke='white'):\n",
    "    dwg.add(dwg.ellipse(center=(cx,cy), r=(rx,ry), fill=fill, stroke=stroke))\n",
    "\n",
    "def polyline(dwg, points, stroke_width, stroke='black', fill='none'):\n",
    "    dwg.add(dwg.polyline(points=points, stroke=stroke, stroke_width=stroke_width, fill=fill))\n",
    "\n",
    "def polygon(dwg, points, stroke_width, stroke='black', fill='none'):\n",
    "    dwg.add(dwg.polygon(points=points, stroke=stroke, stroke_width=stroke_width, fill=fill))\n",
    "\n",
    "\n",
    "rectangle(dwg, x=1, y=1, width=width_mm - 10, height=height_mm - 10, fill='lightblue', stroke='black')\n",
    "\n",
    "circle(dwg, cx=14.85, cy=10.5, r=6, fill='lightgreen', stroke='darkgreen')\n",
    "\n",
    "line(dwg, x1=1, y1=1, x2=26, y2=19, stroke_width=1, stroke='red')\n",
    "line(dwg, x1=1, y1=10.5, x2=26, y2=10.5, stroke_width=0.7, stroke='blue')\n",
    "\n",
    "points_polyline = [(10, 10), (50, 50), (100, 30), (150, 70), (200, 50)]\n",
    "points_polygone = [(50, 50),(150, 50),(200, 100),(150, 150),(50, 150)]\n",
    "\n",
    "polyline(dwg, points_polyline, stroke='red', stroke_width=1, fill='none')\n",
    "polygon(dwg, points_polygone, stroke='blue', stroke_width=2, fill='none')\n",
    "dwg.save()\n",
    "\n"
   ]
  },
  {
   "cell_type": "markdown",
   "id": "d8173470",
   "metadata": {},
   "source": [
    "Créer un fichier test.svg avec toutes les formes"
   ]
  }
 ],
 "metadata": {
  "language_info": {
   "name": "python"
  }
 },
 "nbformat": 4,
 "nbformat_minor": 5
}
