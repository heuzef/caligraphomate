{
 "cells": [
  {
   "cell_type": "markdown",
   "id": "5f147c94",
   "metadata": {},
   "source": [
    "# Essai de code pour lire les données d'un fichier .svg"
   ]
  },
  {
   "cell_type": "code",
   "execution_count": null,
   "id": "1cee0a8f",
   "metadata": {},
   "outputs": [],
   "source": [
    "import xml.etree.ElementTree as ET\n",
    "\n",
    "\n",
    "tree = ET.parse(\"triangle.svg\")\n",
    "root = tree.getroot()\n",
    "\n",
    "ns = {'svg': 'http://www.w3.org/2000/svg'}\n",
    "\n",
    "#Boucle pour les lignes\n",
    "for line in root.findall('.//svg:line', ns):\n",
    "    x1 = line.get('x1')\n",
    "    y1 = line.get('y1')\n",
    "    x2 = line.get('x2')\n",
    "    y2 = line.get('y2')\n",
    "    print(f\"Ligne (x,y) à (x,y)=({x1}, {y1}) à ({x2}, {y2})\")\n",
    "\n",
    "#Boucle pour les cercles\n",
    "for circle in root.findall('.//svg:circle', ns):\n",
    "    cx = circle.get('cx')\n",
    "    cy = circle.get('cy')\n",
    "    r = circle.get('r')\n",
    "    print(f\"Cercle centre (x,y)=({cx},{cy}) rayon={r}\")\n",
    "\n",
    "#Boucle pour les path\n",
    "for path in root.findall('.//svg:path', ns):\n",
    "    d = path.get('d')\n",
    "    print(f\"Chemin (d): {d}\")\n",
    "\n",
    "\n",
    "#Boucle pour les rectangles\n",
    "for rect in root.findall('.//svg:rect', ns):\n",
    "    x = rect.get('x')\n",
    "    y = rect.get('y')\n",
    "    width = rect.get('width')\n",
    "    height = rect.get('height')\n",
    "    print(f\"Rectangle: position (x,y)=({x},{y}), taille (width, height)=({width},{height})\")\n",
    "\n",
    "\n"
   ]
  }
 ],
 "metadata": {
  "language_info": {
   "name": "python"
  }
 },
 "nbformat": 4,
 "nbformat_minor": 5
}
