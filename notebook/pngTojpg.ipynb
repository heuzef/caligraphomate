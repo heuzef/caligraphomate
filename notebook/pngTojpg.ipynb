{
 "cells": [
  {
   "cell_type": "code",
   "execution_count": null,
   "id": "984b23b4",
   "metadata": {},
   "outputs": [],
   "source": [
    "from pathlib import Path\n",
    "from PIL import Image"
   ]
  },
  {
   "cell_type": "code",
   "execution_count": null,
   "id": "1e0292f3",
   "metadata": {},
   "outputs": [],
   "source": [
    "source_dir = Path(\"../png\")\n",
    "output_dir = Path(\"../jpg\")\n",
    "output_dir.mkdir(exist_ok=True)\n",
    "\n",
    "png_files = sorted(source_dir.glob(\"**/*.png\"))\n",
    "\n",
    "for png_path in png_files:\n",
    "    filename = png_path.stem\n",
    "\n",
    "    subfolder_name = png_path.parent.relative_to(source_dir)\n",
    "    output_subfolder = output_dir / subfolder_name\n",
    "    output_subfolder.mkdir(parents=True, exist_ok=True)\n",
    "\n",
    "    jpg_path = output_subfolder / f\"{filename}.jpg\"\n",
    "\n",
    "    with Image.open(png_path) as img:\n",
    "        if img.mode in (\"RGBA\", \"LA\"):\n",
    "            background = Image.new(\"RGB\", img.size, (255, 255, 255))\n",
    "            background.paste(img, mask=img.split()[3])  # Appliquer le canal alpha\n",
    "        else:\n",
    "            background = img.convert(\"RGB\")\n",
    "        background.save(jpg_path, \"JPEG\", quality=95)\n",
    "\n",
    "print(\"Conversion faite !\")\n"
   ]
  }
 ],
 "metadata": {
  "language_info": {
   "name": "python"
  }
 },
 "nbformat": 4,
 "nbformat_minor": 5
}
