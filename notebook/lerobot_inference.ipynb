{
 "cells": [
  {
   "cell_type": "markdown",
   "metadata": {
    "id": "Li0D0MZRwVM7"
   },
   "source": []
  },
  {
   "cell_type": "code",
   "execution_count": null,
   "metadata": {
    "colab": {
     "base_uri": "https://localhost:8080/",
     "height": 384
    },
    "executionInfo": {
     "elapsed": 95,
     "status": "error",
     "timestamp": 1760781664959,
     "user": {
      "displayName": "Méo Desbois-Renaudin",
      "userId": "14486404426275308909"
     },
     "user_tz": -120
    },
    "id": "5kC_KiAZw7oI",
    "outputId": "e04a4b17-c630-4eff-d779-0e47e0fb433b"
   },
   "outputs": [],
   "source": [
    "from lerobot.cameras.opencv.configuration_opencv import OpenCVCameraConfig\n",
    "from lerobot.datasets.lerobot_dataset import LeRobotDataset\n",
    "from lerobot.datasets.utils import hw_to_dataset_features\n",
    "from lerobot.policies.act.modeling_act import ACTPolicy\n",
    "from lerobot.policies.factory import make_pre_post_processors\n",
    "from lerobot.robots.so100_follower.config_so100_follower import SO100FollowerConfig\n",
    "from lerobot.robots.so100_follower.so100_follower import SO100Follower\n",
    "from lerobot.scripts.lerobot_record import record_loop\n",
    "from lerobot.utils.control_utils import init_keyboard_listener\n",
    "from lerobot.utils.utils import log_say\n",
    "from lerobot.utils.visualization_utils import init_rerun\n",
    "\n",
    "\n",
    "NUM_EPISODES = 5\n",
    "FPS = 30\n",
    "EPISODE_TIME_SEC = 60\n",
    "TASK_DESCRIPTION = \"My task description\"\n",
    "HF_MODEL_ID = \"<hf_username>/<model_repo_id>\"\n",
    "HF_DATASET_ID = \"<hf_username>/<eval_dataset_repo_id>\"\n",
    "\n",
    "# Create the robot configuration\n",
    "camera_config = {\"front\": OpenCVCameraConfig(index_or_path=0, width=640, height=480, fps=FPS)}\n",
    "robot_config = SO100FollowerConfig(\n",
    "    port=\"/dev/tty.usbmodem58760434471\", id=\"my_awesome_follower_arm\", cameras=camera_config\n",
    ")\n",
    "\n",
    "# Initialize the robot\n",
    "robot = SO100Follower(robot_config)\n",
    "\n",
    "# Initialize the policy\n",
    "policy = ACTPolicy.from_pretrained(HF_MODEL_ID)\n",
    "\n",
    "# Configure the dataset features\n",
    "action_features = hw_to_dataset_features(robot.action_features, \"action\")\n",
    "obs_features = hw_to_dataset_features(robot.observation_features, \"observation\")\n",
    "dataset_features = {**action_features, **obs_features}\n",
    "\n",
    "# Create the dataset\n",
    "dataset = LeRobotDataset.create(\n",
    "    repo_id=HF_DATASET_ID,\n",
    "    fps=FPS,\n",
    "    features=dataset_features,\n",
    "    robot_type=robot.name,\n",
    "    use_videos=True,\n",
    "    image_writer_threads=4,\n",
    ")\n",
    "\n",
    "# Initialize the keyboard listener and rerun visualization\n",
    "_, events = init_keyboard_listener()\n",
    "init_rerun(session_name=\"recording\")\n",
    "\n",
    "# Connect the robot\n",
    "robot.connect()\n",
    "\n",
    "preprocessor, postprocessor = make_pre_post_processors(\n",
    "    policy_cfg=policy,\n",
    "    pretrained_path=HF_MODEL_ID,\n",
    "    dataset_stats=dataset.meta.stats,\n",
    ")\n",
    "\n",
    "for episode_idx in range(NUM_EPISODES):\n",
    "    log_say(f\"Running inference, recording eval episode {episode_idx + 1} of {NUM_EPISODES}\")\n",
    "\n",
    "    # Run the policy inference loop\n",
    "    record_loop(\n",
    "        robot=robot,\n",
    "        events=events,\n",
    "        fps=FPS,\n",
    "        policy=policy,\n",
    "        preprocessor=preprocessor,\n",
    "        postprocessor=postprocessor,\n",
    "        dataset=dataset,\n",
    "        control_time_s=EPISODE_TIME_SEC,\n",
    "        single_task=TASK_DESCRIPTION,\n",
    "        display_data=True,\n",
    "    )\n",
    "\n",
    "    dataset.save_episode()\n",
    "\n",
    "# Clean up\n",
    "robot.disconnect()\n",
    "dataset.push_to_hub()"
   ]
  }
 ],
 "metadata": {
  "accelerator": "GPU",
  "colab": {
   "gpuType": "T4",
   "machine_shape": "hm",
   "provenance": [
    {
     "file_id": "https://github.com/huggingface/notebooks/blob/main/lerobot/training-act.ipynb",
     "timestamp": 1760127628347
    }
   ]
  },
  "kernelspec": {
   "display_name": "Python 3",
   "name": "python3"
  },
  "language_info": {
   "name": "python"
  }
 },
 "nbformat": 4,
 "nbformat_minor": 0
}
