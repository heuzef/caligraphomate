{
 "cells": [
  {
   "cell_type": "markdown",
   "id": "1e230d25",
   "metadata": {},
   "source": [
    "# Créer des formes de bases en SVG"
   ]
  },
  {
   "cell_type": "markdown",
   "id": "e6c4a983",
   "metadata": {},
   "source": [
    "## Importer SVGWRITE et définir les dimenssions du document\n",
    "> https://svgwrite.readthedocs.io/en/latest"
   ]
  },
  {
   "cell_type": "code",
   "execution_count": 99,
   "id": "91aadf9c",
   "metadata": {},
   "outputs": [],
   "source": [
    "import svgwrite\n",
    "from svgwrite import Drawing, cm, mm\n",
    "from IPython.display import SVG, display\n",
    "\n",
    "# A4\n",
    "A4_width = 297\n",
    "A4_height = 210\n",
    "\n",
    "# A5\n",
    "A5_width = A4_height\n",
    "A5_height = A4_width/2\n",
    "\n",
    "# Centre\n",
    "cx = A5_width / 2\n",
    "cy = A5_height / 2\n",
    "\n",
    "# Settings\n",
    "\n",
    "dwg = Drawing(\n",
    "    'test.svg',\n",
    "    size=(f'{A4_width}mm', f'{A4_height}mm'),\n",
    "    viewBox=f'0 0 {A4_width} {A4_height}',\n",
    "    profile='full'\n",
    ")"
   ]
  },
  {
   "cell_type": "markdown",
   "id": "3115f7b4",
   "metadata": {},
   "source": [
    "## Définir la zone A5 qui contiendra la forme"
   ]
  },
  {
   "cell_type": "code",
   "execution_count": 100,
   "id": "a2846158",
   "metadata": {},
   "outputs": [
    {
     "data": {
      "image/svg+xml": [
       "<g transform=\"translate(43.5,30.75)\"><rect fill=\"none\" height=\"148.5\" stroke=\"red\" stroke-dasharray=\"5,5\" width=\"210\" x=\"0\" y=\"0\" /></g>"
      ],
      "text/plain": [
       "<svgwrite.container.Group at 0x7f4b598431e0>"
      ]
     },
     "execution_count": 100,
     "metadata": {},
     "output_type": "execute_result"
    }
   ],
   "source": [
    "# Créer la zone\n",
    "x = (A4_width - A5_width) / 2\n",
    "y = (A4_height - A5_height) / 2\n",
    "A5_area = dwg.g(transform=f\"translate({x},{y})\")\n",
    "\n",
    "# Dessiner la zone\n",
    "A5_area.add(dwg.rect(insert=(0, 0), size=(A5_width, A5_height), fill='none', stroke='red', stroke_dasharray=\"5,5\"))\n",
    "dwg.add(A5_area)"
   ]
  },
  {
   "cell_type": "markdown",
   "id": "66706dba",
   "metadata": {},
   "source": [
    "## Fonctions pour chaque formes"
   ]
  },
  {
   "cell_type": "code",
   "execution_count": null,
   "id": "f2c2d8c5",
   "metadata": {},
   "outputs": [],
   "source": [
    "def circle(dwg, group, cx, cy, r, fill='none', stroke='black'):\n",
    "    group.add(dwg.circle(center=(cx,cy), r=r, fill=fill, stroke=stroke))\n",
    "\n",
    "def ellipse(dwg, group, cx, cy, rx, ry, fill='none', stroke='black'):\n",
    "    group.add(dwg.ellipse(center=(cx,cy), r=(rx,ry), fill=fill, stroke=stroke))\n",
    "\n",
    "def rectangle(dwg, group, x, y, width, height, fill='none', stroke='black', rx=None, ry=None):\n",
    "    group.add(dwg.rect(insert=(x, y), size=(width, height), fill=fill, stroke=stroke, rx=rx, ry=ry))\n",
    " \n",
    "def line(dwg, group, x1, y1, x2, y2, stroke_width, stroke='black'):\n",
    "    group.add(dwg.line(start=(x1,y1), end=(x2,y2), stroke=stroke, stroke_width=stroke_width))\n",
    "\n",
    "def polyline(dwg, group, points, stroke_width, fill='none', stroke='black'):\n",
    "    group.add(dwg.polyline(points=points, stroke=stroke, stroke_width=stroke_width, fill=fill))\n",
    "\n",
    "def polygon(dwg, group, points, stroke_width, fill='none', stroke='black'):\n",
    "    group.add(dwg.polygon(points=points, stroke=stroke, stroke_width=stroke_width, fill=fill))\n",
    "\n",
    "def path(dwg, group, dots, stroke_width=1, fill='none', stroke='black'):\n",
    "    group.add(dwg.path(d=dots, stroke=stroke, fill=fill, stroke_width=stroke_width))"
   ]
  },
  {
   "cell_type": "markdown",
   "id": "69d0e852",
   "metadata": {},
   "source": [
    "## Ajout de la forme"
   ]
  },
  {
   "cell_type": "code",
   "execution_count": 102,
   "id": "1d70df58",
   "metadata": {},
   "outputs": [],
   "source": [
    "# Point central\n",
    "circle(dwg, A5_area, cx=cx, cy=cy, r=1)"
   ]
  },
  {
   "cell_type": "markdown",
   "id": "ccb9c34e",
   "metadata": {},
   "source": [
    "## Visualiser et enregistrer le SVG"
   ]
  },
  {
   "cell_type": "code",
   "execution_count": 103,
   "id": "c83f7e68",
   "metadata": {},
   "outputs": [
    {
     "data": {
      "image/svg+xml": [
       "<svg xmlns=\"http://www.w3.org/2000/svg\" xmlns:ev=\"http://www.w3.org/2001/xml-events\" xmlns:xlink=\"http://www.w3.org/1999/xlink\" baseProfile=\"full\" height=\"210mm\" version=\"1.1\" viewBox=\"0 0 297 210\" width=\"297mm\"><defs/><g transform=\"translate(43.5,30.75)\"><rect fill=\"none\" height=\"148.5\" stroke=\"red\" stroke-dasharray=\"5,5\" width=\"210\" x=\"0\" y=\"0\"/><circle cx=\"105.0\" cy=\"74.25\" fill=\"none\" r=\"1\" stroke=\"black\"/></g></svg>"
      ],
      "text/plain": [
       "<IPython.core.display.SVG object>"
      ]
     },
     "metadata": {},
     "output_type": "display_data"
    }
   ],
   "source": [
    "display(SVG(dwg.tostring()))\n",
    "\n",
    "dwg.save()"
   ]
  },
  {
   "cell_type": "markdown",
   "id": "f7d63f4c",
   "metadata": {},
   "source": [
    "# Autres formes"
   ]
  },
  {
   "cell_type": "code",
   "execution_count": 104,
   "id": "0e0d7990",
   "metadata": {},
   "outputs": [
    {
     "data": {
      "image/svg+xml": [
       "<svg xmlns=\"http://www.w3.org/2000/svg\" xmlns:ev=\"http://www.w3.org/2001/xml-events\" xmlns:xlink=\"http://www.w3.org/1999/xlink\" baseProfile=\"full\" height=\"210mm\" version=\"1.1\" viewBox=\"0 0 297 210\" width=\"297mm\"><defs/><g transform=\"translate(43.5,30.75)\"><rect fill=\"none\" height=\"148.5\" stroke=\"red\" stroke-dasharray=\"5,5\" width=\"210\" x=\"0\" y=\"0\"/><circle cx=\"105.0\" cy=\"74.25\" fill=\"none\" r=\"1\" stroke=\"black\"/><rect fill=\"none\" height=\"50\" stroke=\"black\" width=\"80\" x=\"65.0\" y=\"49.25\"/></g></svg>"
      ],
      "text/plain": [
       "<IPython.core.display.SVG object>"
      ]
     },
     "metadata": {},
     "output_type": "display_data"
    }
   ],
   "source": [
    "rectangle_w = 80\n",
    "rectangle_h = 50\n",
    "\n",
    "rectangle(dwg, A5_area, x=cx-rectangle_w/2, y=cy-rectangle_h/2, width=rectangle_w, height=rectangle_h)\n",
    "\n",
    "display(SVG(dwg.tostring()))"
   ]
  },
  {
   "cell_type": "code",
   "execution_count": 105,
   "id": "e1fc7707",
   "metadata": {},
   "outputs": [
    {
     "data": {
      "image/svg+xml": [
       "<svg xmlns=\"http://www.w3.org/2000/svg\" xmlns:ev=\"http://www.w3.org/2001/xml-events\" xmlns:xlink=\"http://www.w3.org/1999/xlink\" baseProfile=\"full\" height=\"210mm\" version=\"1.1\" viewBox=\"0 0 297 210\" width=\"297mm\"><defs/><g transform=\"translate(43.5,30.75)\"><rect fill=\"none\" height=\"148.5\" stroke=\"red\" stroke-dasharray=\"5,5\" width=\"210\" x=\"0\" y=\"0\"/><circle cx=\"105.0\" cy=\"74.25\" fill=\"none\" r=\"1\" stroke=\"black\"/><rect fill=\"none\" height=\"50\" stroke=\"black\" width=\"80\" x=\"65.0\" y=\"49.25\"/><ellipse cx=\"105.0\" cy=\"74.25\" fill=\"none\" rx=\"15\" ry=\"35\" stroke=\"black\"/></g></svg>"
      ],
      "text/plain": [
       "<IPython.core.display.SVG object>"
      ]
     },
     "metadata": {},
     "output_type": "display_data"
    }
   ],
   "source": [
    "ellipse(dwg, A5_area, cx=cx, cy=cy, rx=15, ry=35)\n",
    "\n",
    "display(SVG(dwg.tostring()))"
   ]
  },
  {
   "cell_type": "code",
   "execution_count": 107,
   "id": "6e9344d2",
   "metadata": {},
   "outputs": [
    {
     "data": {
      "image/svg+xml": [
       "<svg xmlns=\"http://www.w3.org/2000/svg\" xmlns:ev=\"http://www.w3.org/2001/xml-events\" xmlns:xlink=\"http://www.w3.org/1999/xlink\" baseProfile=\"full\" height=\"210mm\" version=\"1.1\" viewBox=\"0 0 297 210\" width=\"297mm\"><defs/><g transform=\"translate(43.5,30.75)\"><rect fill=\"none\" height=\"148.5\" stroke=\"red\" stroke-dasharray=\"5,5\" width=\"210\" x=\"0\" y=\"0\"/><circle cx=\"105.0\" cy=\"74.25\" fill=\"none\" r=\"1\" stroke=\"black\"/><rect fill=\"none\" height=\"50\" stroke=\"black\" width=\"80\" x=\"65.0\" y=\"49.25\"/><ellipse cx=\"105.0\" cy=\"74.25\" fill=\"none\" rx=\"15\" ry=\"35\" stroke=\"black\"/><line stroke=\"black\" stroke-width=\"1\" x1=\"105.0\" x2=\"105.0\" y1=\"0\" y2=\"148.5\"/><line stroke=\"black\" stroke-width=\"1\" x1=\"0\" x2=\"210\" y1=\"74.25\" y2=\"74.25\"/><line stroke=\"black\" stroke-width=\"1\" x1=\"0\" x2=\"210\" y1=\"0\" y2=\"148.5\"/><line stroke=\"black\" stroke-width=\"1\" x1=\"210\" x2=\"0\" y1=\"0\" y2=\"148.5\"/></g></svg>"
      ],
      "text/plain": [
       "<IPython.core.display.SVG object>"
      ]
     },
     "metadata": {},
     "output_type": "display_data"
    }
   ],
   "source": [
    "# Horizontal\n",
    "line(dwg, A5_area, x1=A5_width/2, y1=0, x2=A5_width/2, y2=A5_height, stroke_width=1)\n",
    "# Vertical\n",
    "line(dwg, A5_area, x1=0, y1=A5_height/2, x2=A5_width, y2=A5_height/2, stroke_width=1)\n",
    "# Diagonale 1\n",
    "line(dwg, A5_area, x1=0, y1=0, x2=A5_width, y2=A5_height, stroke_width=1)\n",
    "# Diagonale 2\n",
    "line(dwg, A5_area, x1=A5_width, y1=0, x2=0, y2=A5_height, stroke_width=1)\n",
    "\n",
    "display(SVG(dwg.tostring()))"
   ]
  },
  {
   "cell_type": "code",
   "execution_count": 108,
   "id": "62f6dd7d",
   "metadata": {},
   "outputs": [
    {
     "data": {
      "image/svg+xml": [
       "<svg xmlns=\"http://www.w3.org/2000/svg\" xmlns:ev=\"http://www.w3.org/2001/xml-events\" xmlns:xlink=\"http://www.w3.org/1999/xlink\" baseProfile=\"full\" height=\"210mm\" version=\"1.1\" viewBox=\"0 0 297 210\" width=\"297mm\"><defs/><g transform=\"translate(43.5,30.75)\"><rect fill=\"none\" height=\"148.5\" stroke=\"red\" stroke-dasharray=\"5,5\" width=\"210\" x=\"0\" y=\"0\"/><circle cx=\"105.0\" cy=\"74.25\" fill=\"none\" r=\"1\" stroke=\"black\"/><rect fill=\"none\" height=\"50\" stroke=\"black\" width=\"80\" x=\"65.0\" y=\"49.25\"/><ellipse cx=\"105.0\" cy=\"74.25\" fill=\"none\" rx=\"15\" ry=\"35\" stroke=\"black\"/><line stroke=\"black\" stroke-width=\"1\" x1=\"105.0\" x2=\"105.0\" y1=\"0\" y2=\"148.5\"/><line stroke=\"black\" stroke-width=\"1\" x1=\"0\" x2=\"210\" y1=\"74.25\" y2=\"74.25\"/><line stroke=\"black\" stroke-width=\"1\" x1=\"0\" x2=\"210\" y1=\"0\" y2=\"148.5\"/><line stroke=\"black\" stroke-width=\"1\" x1=\"210\" x2=\"0\" y1=\"0\" y2=\"148.5\"/><polyline fill=\"none\" points=\"15,45 45,45 45,15 30,0 15,15 15,45\" stroke=\"black\" stroke-width=\"1\"/></g></svg>"
      ],
      "text/plain": [
       "<IPython.core.display.SVG object>"
      ]
     },
     "metadata": {},
     "output_type": "display_data"
    }
   ],
   "source": [
    "points_polyline = [(15, 45), (45, 45), (45, 15), (30, 0), (15, 15), (15, 45)]\n",
    "polyline(dwg, A5_area, points_polyline, stroke_width=1)\n",
    "\n",
    "display(SVG(dwg.tostring()))"
   ]
  },
  {
   "cell_type": "code",
   "execution_count": 109,
   "id": "47ec119e",
   "metadata": {},
   "outputs": [
    {
     "data": {
      "image/svg+xml": [
       "<svg xmlns=\"http://www.w3.org/2000/svg\" xmlns:ev=\"http://www.w3.org/2001/xml-events\" xmlns:xlink=\"http://www.w3.org/1999/xlink\" baseProfile=\"full\" height=\"210mm\" version=\"1.1\" viewBox=\"0 0 297 210\" width=\"297mm\"><defs/><g transform=\"translate(43.5,30.75)\"><rect fill=\"none\" height=\"148.5\" stroke=\"red\" stroke-dasharray=\"5,5\" width=\"210\" x=\"0\" y=\"0\"/><circle cx=\"105.0\" cy=\"74.25\" fill=\"none\" r=\"1\" stroke=\"black\"/><rect fill=\"none\" height=\"50\" stroke=\"black\" width=\"80\" x=\"65.0\" y=\"49.25\"/><ellipse cx=\"105.0\" cy=\"74.25\" fill=\"none\" rx=\"15\" ry=\"35\" stroke=\"black\"/><line stroke=\"black\" stroke-width=\"1\" x1=\"105.0\" x2=\"105.0\" y1=\"0\" y2=\"148.5\"/><line stroke=\"black\" stroke-width=\"1\" x1=\"0\" x2=\"210\" y1=\"74.25\" y2=\"74.25\"/><line stroke=\"black\" stroke-width=\"1\" x1=\"0\" x2=\"210\" y1=\"0\" y2=\"148.5\"/><line stroke=\"black\" stroke-width=\"1\" x1=\"210\" x2=\"0\" y1=\"0\" y2=\"148.5\"/><polyline fill=\"none\" points=\"15,45 45,45 45,15 30,0 15,15 15,45\" stroke=\"black\" stroke-width=\"1\"/><polygon fill=\"none\" points=\"40,40 140,40 180,90 140,130 40,130\" stroke=\"black\" stroke-width=\"1\"/></g></svg>"
      ],
      "text/plain": [
       "<IPython.core.display.SVG object>"
      ]
     },
     "metadata": {},
     "output_type": "display_data"
    }
   ],
   "source": [
    "points_polygone = [(40, 40), (140, 40), (180, 90), (140, 130), (40, 130)]\n",
    "polygon(dwg, A5_area, points_polygone, stroke_width=1)\n",
    "\n",
    "display(SVG(dwg.tostring()))"
   ]
  },
  {
   "cell_type": "code",
   "execution_count": 124,
   "id": "8ceb7c00",
   "metadata": {},
   "outputs": [
    {
     "ename": "TypeError",
     "evalue": "path() missing 2 required positional arguments: 'cx' and 'cy'",
     "output_type": "error",
     "traceback": [
      "\u001b[31m---------------------------------------------------------------------------\u001b[39m",
      "\u001b[31mTypeError\u001b[39m                                 Traceback (most recent call last)",
      "\u001b[36mCell\u001b[39m\u001b[36m \u001b[39m\u001b[32mIn[124]\u001b[39m\u001b[32m, line 3\u001b[39m\n\u001b[32m      1\u001b[39m dots = \u001b[33m'\u001b[39m\u001b[33mM47,24 C49,29, 55,29, 57,24\u001b[39m\u001b[33m'\u001b[39m\n\u001b[32m----> \u001b[39m\u001b[32m3\u001b[39m \u001b[43mpath\u001b[49m\u001b[43m(\u001b[49m\u001b[43mdwg\u001b[49m\u001b[43m,\u001b[49m\u001b[43m \u001b[49m\u001b[43mA5_area\u001b[49m\u001b[43m,\u001b[49m\u001b[43m \u001b[49m\u001b[43mdots\u001b[49m\u001b[43m,\u001b[49m\u001b[43m \u001b[49m\u001b[43mstroke_width\u001b[49m\u001b[43m=\u001b[49m\u001b[32;43m1\u001b[39;49m\u001b[43m)\u001b[49m\n\u001b[32m      5\u001b[39m display(SVG(dwg.tostring()))\n",
      "\u001b[31mTypeError\u001b[39m: path() missing 2 required positional arguments: 'cx' and 'cy'"
     ]
    }
   ],
   "source": [
    "dots = 'M47,24 C49,29, 55,29, 57,24'\n",
    "\n",
    "path(dwg, A5_area, dots, stroke_width=1)\n",
    "\n",
    "display(SVG(dwg.tostring()))"
   ]
  }
 ],
 "metadata": {
  "kernelspec": {
   "display_name": ".venv",
   "language": "python",
   "name": "python3"
  },
  "language_info": {
   "codemirror_mode": {
    "name": "ipython",
    "version": 3
   },
   "file_extension": ".py",
   "mimetype": "text/x-python",
   "name": "python",
   "nbconvert_exporter": "python",
   "pygments_lexer": "ipython3",
   "version": "3.13.7"
  }
 },
 "nbformat": 4,
 "nbformat_minor": 5
}
