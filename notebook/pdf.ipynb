{
 "cells": [
  {
   "cell_type": "markdown",
   "id": "229defc4",
   "metadata": {},
   "source": [
    "# Code python pour convertir les fichiers SVG en un fichier PDF"
   ]
  },
  {
   "cell_type": "code",
   "execution_count": 7,
   "id": "a1d940f2",
   "metadata": {},
   "outputs": [
    {
     "ename": "SameFileError",
     "evalue": "PosixPath('../svg/selected_svg/circle/circle_001.svg') and PosixPath('../svg/selected_svg/circle/circle_001.svg') are the same file",
     "output_type": "error",
     "traceback": [
      "\u001b[31m---------------------------------------------------------------------------\u001b[39m",
      "\u001b[31mSameFileError\u001b[39m                             Traceback (most recent call last)",
      "\u001b[36mCell\u001b[39m\u001b[36m \u001b[39m\u001b[32mIn[7]\u001b[39m\u001b[32m, line 29\u001b[39m\n\u001b[32m     27\u001b[39m     subfolder_path.mkdir(exist_ok=\u001b[38;5;28;01mTrue\u001b[39;00m)\n\u001b[32m     28\u001b[39m     dest = subfolder_path / svg.name\n\u001b[32m---> \u001b[39m\u001b[32m29\u001b[39m     \u001b[43mshutil\u001b[49m\u001b[43m.\u001b[49m\u001b[43mcopy\u001b[49m\u001b[43m(\u001b[49m\u001b[43msvg\u001b[49m\u001b[43m,\u001b[49m\u001b[43m \u001b[49m\u001b[43mdest\u001b[49m\u001b[43m)\u001b[49m\n\u001b[32m     32\u001b[39m \u001b[38;5;28mprint\u001b[39m(\u001b[33m\"\u001b[39m\u001b[33mFichiers copiés\u001b[39m\u001b[33m\"\u001b[39m)\n",
      "\u001b[36mFile \u001b[39m\u001b[32m/usr/lib/python3.12/shutil.py:435\u001b[39m, in \u001b[36mcopy\u001b[39m\u001b[34m(src, dst, follow_symlinks)\u001b[39m\n\u001b[32m    433\u001b[39m \u001b[38;5;28;01mif\u001b[39;00m os.path.isdir(dst):\n\u001b[32m    434\u001b[39m     dst = os.path.join(dst, os.path.basename(src))\n\u001b[32m--> \u001b[39m\u001b[32m435\u001b[39m \u001b[43mcopyfile\u001b[49m\u001b[43m(\u001b[49m\u001b[43msrc\u001b[49m\u001b[43m,\u001b[49m\u001b[43m \u001b[49m\u001b[43mdst\u001b[49m\u001b[43m,\u001b[49m\u001b[43m \u001b[49m\u001b[43mfollow_symlinks\u001b[49m\u001b[43m=\u001b[49m\u001b[43mfollow_symlinks\u001b[49m\u001b[43m)\u001b[49m\n\u001b[32m    436\u001b[39m copymode(src, dst, follow_symlinks=follow_symlinks)\n\u001b[32m    437\u001b[39m \u001b[38;5;28;01mreturn\u001b[39;00m dst\n",
      "\u001b[36mFile \u001b[39m\u001b[32m/usr/lib/python3.12/shutil.py:240\u001b[39m, in \u001b[36mcopyfile\u001b[39m\u001b[34m(src, dst, follow_symlinks)\u001b[39m\n\u001b[32m    237\u001b[39m sys.audit(\u001b[33m\"\u001b[39m\u001b[33mshutil.copyfile\u001b[39m\u001b[33m\"\u001b[39m, src, dst)\n\u001b[32m    239\u001b[39m \u001b[38;5;28;01mif\u001b[39;00m _samefile(src, dst):\n\u001b[32m--> \u001b[39m\u001b[32m240\u001b[39m     \u001b[38;5;28;01mraise\u001b[39;00m SameFileError(\u001b[33m\"\u001b[39m\u001b[38;5;132;01m{!r}\u001b[39;00m\u001b[33m and \u001b[39m\u001b[38;5;132;01m{!r}\u001b[39;00m\u001b[33m are the same file\u001b[39m\u001b[33m\"\u001b[39m.format(src, dst))\n\u001b[32m    242\u001b[39m file_size = \u001b[32m0\u001b[39m\n\u001b[32m    243\u001b[39m \u001b[38;5;28;01mfor\u001b[39;00m i, fn \u001b[38;5;129;01min\u001b[39;00m \u001b[38;5;28menumerate\u001b[39m([src, dst]):\n",
      "\u001b[31mSameFileError\u001b[39m: PosixPath('../svg/selected_svg/circle/circle_001.svg') and PosixPath('../svg/selected_svg/circle/circle_001.svg') are the same file"
     ]
    }
   ],
   "source": [
    "from pathlib import Path\n",
    "import re\n",
    "import shutil\n",
    "\n",
    "base_dir = Path(\"../svg\")\n",
    "\n",
    "\n",
    "output_dir = Path(\"../svg/selected_svg\")\n",
    "output_dir.mkdir(exist_ok=True) \n",
    "\n",
    "svg_files = sorted(base_dir.glob(\"**/*.svg\"))\n",
    "\n",
    "pattern = re.compile(r\"(\\d+)(?!.*\\d)\")\n",
    "\n",
    "selected_files = []\n",
    "for svg in svg_files:\n",
    "    match = pattern.search(svg.stem)\n",
    "    if match:\n",
    "        num = int(match.group(1))\n",
    "        if 1 <= num <= 70:\n",
    "            selected_files.append(svg)\n",
    "\n",
    "\n",
    "for svg in selected_files:\n",
    "    subfolder_name = svg.parent.name\n",
    "    subfolder_path = output_dir / subfolder_name\n",
    "    subfolder_path.mkdir(exist_ok=True)\n",
    "    dest = subfolder_path / svg.name\n",
    "    shutil.copy(svg, dest)\n",
    "\n",
    "\n",
    "print(\"Fichiers copiés\")\n"
   ]
  },
  {
   "cell_type": "markdown",
   "id": "40dd17aa",
   "metadata": {},
   "source": [
    "Copie les 70 premiers fichiers svg dans un dossier frère : selected_svg"
   ]
  },
  {
   "cell_type": "code",
   "execution_count": 12,
   "id": "b6ee36b0",
   "metadata": {},
   "outputs": [
    {
     "name": "stdout",
     "output_type": "stream",
     "text": [
      "Conversion terminée\n"
     ]
    }
   ],
   "source": [
    "from pathlib import Path\n",
    "import cairosvg\n",
    "\n",
    "source_dir = Path(\"../svg/selected_svg\")\n",
    "output_dir = Path(\"../svg/pdf_temp\")\n",
    "output_dir.mkdir(exist_ok=True)\n",
    "\n",
    "svg_files = sorted(source_dir.glob(\"**/*.svg\"))\n",
    "\n",
    "for svg_path in svg_files:\n",
    "    filename = svg_path.stem\n",
    "\n",
    "    subfolder_name = svg_path.parent.relative_to(source_dir)\n",
    "    output_subfolder = output_dir / subfolder_name\n",
    "    output_subfolder.mkdir(parents=True, exist_ok=True)\n",
    "    pdf_path = output_subfolder / f\"{filename}.pdf\"\n",
    "\n",
    "    cairosvg.svg2pdf(url=str(svg_path), write_to=str(pdf_path))\n",
    "print(\"Conversion terminée\")\n"
   ]
  },
  {
   "cell_type": "markdown",
   "id": "a99b8965",
   "metadata": {},
   "source": [
    "Convertis tous les fichiers svg du dossier selecteg_svg en pdf dans un nouveau dossier pdf_temp"
   ]
  },
  {
   "cell_type": "code",
   "execution_count": 13,
   "id": "6b0ad3d6",
   "metadata": {},
   "outputs": [
    {
     "name": "stdout",
     "output_type": "stream",
     "text": [
      "PDF final créé\n"
     ]
    }
   ],
   "source": [
    "from pathlib import Path\n",
    "from reportlab.pdfgen import canvas\n",
    "from reportlab.lib.pagesizes import A4, landscape\n",
    "from PyPDF2 import PdfReader, PdfWriter\n",
    "\n",
    "input_dir = Path(\"../svg/pdf_temp\")\n",
    "output_pdf_path = Path(\"../svg/formes_final.pdf\")\n",
    "writer = PdfWriter()\n",
    "\n",
    "pdf_files = sorted(input_dir.glob(\"**/*.pdf\"))\n",
    "\n",
    "for pdf_path in pdf_files:\n",
    "    reader = PdfReader(str(pdf_path))\n",
    "    page = reader.pages[0]\n",
    "\n",
    "    tmp_pdf_path = pdf_path.with_name(f\"{pdf_path.name}\")\n",
    "    c = canvas.Canvas(str(tmp_pdf_path), pagesize=landscape(A4))\n",
    "    \n",
    "\n",
    "    text = pdf_path.stem \n",
    "    x = 750\n",
    "    y = 570\n",
    "    c.setFont(\"Helvetica\", 10)\n",
    "    c.drawString(x, y, text)\n",
    "    c.save()\n",
    "    text_reader = PdfReader(str(tmp_pdf_path))\n",
    "    page.merge_page(text_reader.pages[0])\n",
    "\n",
    "    writer.add_page(page)\n",
    "\n",
    "with open(output_pdf_path, \"wb\") as f:\n",
    "    writer.write(f)\n",
    "\n",
    "print(\"PDF final créé\")\n"
   ]
  },
  {
   "cell_type": "markdown",
   "id": "5529b1ff",
   "metadata": {},
   "source": [
    "Ecrit dans chaque fichier pdf son nom en haut à droite.\n",
    "Puis assemble tous les fichiers png en un seul gros fichier png : formes_final.png"
   ]
  },
  {
   "cell_type": "code",
   "execution_count": null,
   "id": "291eb8da-a69f-47d8-accc-435e2d6d9cc8",
   "metadata": {},
   "outputs": [],
   "source": []
  }
 ],
 "metadata": {
  "kernelspec": {
   "display_name": "Python 3 (ipykernel)",
   "language": "python",
   "name": "python3"
  },
  "language_info": {
   "codemirror_mode": {
    "name": "ipython",
    "version": 3
   },
   "file_extension": ".py",
   "mimetype": "text/x-python",
   "name": "python",
   "nbconvert_exporter": "python",
   "pygments_lexer": "ipython3",
   "version": "3.12.3"
  }
 },
 "nbformat": 4,
 "nbformat_minor": 5
}
