{
 "cells": [
  {
   "cell_type": "markdown",
   "id": "229defc4",
   "metadata": {},
   "source": [
    "# Code python pour convertir les fichiers SVG en un fichier PDF"
   ]
  },
  {
   "cell_type": "markdown",
   "id": "856e4f73",
   "metadata": {},
   "source": [
    "## Import des librairies"
   ]
  },
  {
   "cell_type": "code",
   "execution_count": 1,
   "id": "cdd8ed90",
   "metadata": {},
   "outputs": [],
   "source": [
    "from pathlib import Path\n",
    "from reportlab.pdfgen import canvas\n",
    "from reportlab.lib.pagesizes import A4, landscape\n",
    "from PyPDF2 import PdfReader, PdfWriter\n",
    "import re\n",
    "import shutil\n",
    "import cairosvg"
   ]
  },
  {
   "cell_type": "markdown",
   "id": "fa23a99d",
   "metadata": {},
   "source": [
    "## Copie des fichiers SVG"
   ]
  },
  {
   "cell_type": "code",
   "execution_count": null,
   "id": "a1d940f2",
   "metadata": {},
   "outputs": [],
   "source": [
    "from pathlib import Path\n",
    "import re\n",
    "import shutil\n",
    "\n",
    "base_dir = Path(\"../svg\")\n",
    "\n",
    "\n",
    "output_dir = Path(\"../svg/selected_svg\")\n",
    "output_dir.mkdir(exist_ok=True) \n",
    "\n",
    "svg_files = sorted(base_dir.glob(\"**/*.svg\"))\n",
    "\n",
    "pattern = re.compile(r\"(\\d+)(?!.*\\d)\")\n",
    "\n",
    "selected_files = []\n",
    "for svg in svg_files:\n",
    "    match = pattern.search(svg.stem)\n",
    "    if match:\n",
    "        num = int(match.group(1))\n",
    "        if 1 <= num <= 70:\n",
    "            selected_files.append(svg)\n",
    "\n",
    "\n",
    "for svg in selected_files:\n",
    "    subfolder_name = svg.parent.name\n",
    "    subfolder_path = output_dir / subfolder_name\n",
    "    subfolder_path.mkdir(exist_ok=True)\n",
    "    dest = subfolder_path / svg.name\n",
    "    shutil.copy(svg, dest)\n",
    "\n",
    "\n",
    "print(\"Fichiers copiés\")\n"
   ]
  },
  {
   "cell_type": "markdown",
   "id": "ff24fcd5",
   "metadata": {},
   "source": [
    "## Creation du nouveau dossier **pdf_temp**"
   ]
  },
  {
   "cell_type": "code",
   "execution_count": 7,
   "id": "b6ee36b0",
   "metadata": {},
   "outputs": [
    {
     "name": "stdout",
     "output_type": "stream",
     "text": [
      "Conversion terminée\n"
     ]
    }
   ],
   "source": [
    "source_dir = Path(\"../svg/selected_svg\")\n",
    "output_dir = Path(\"../svg/pdf_temp\")\n",
    "output_dir.mkdir(exist_ok=True)\n",
    "\n",
    "svg_files = sorted(source_dir.glob(\"**/*.svg\"))\n",
    "\n",
    "for svg_path in svg_files:\n",
    "    filename = svg_path.stem\n",
    "\n",
    "    subfolder_name = svg_path.parent.relative_to(source_dir)\n",
    "    output_subfolder = output_dir / subfolder_name\n",
    "    output_subfolder.mkdir(parents=True, exist_ok=True)\n",
    "    pdf_path = output_subfolder / f\"{filename}.pdf\"\n",
    "\n",
    "    cairosvg.svg2pdf(url=str(svg_path), write_to=str(pdf_path))\n",
    "print(\"Conversion terminée\")\n"
   ]
  },
  {
   "cell_type": "markdown",
   "id": "a99b8965",
   "metadata": {},
   "source": [
    "## Convertis tous les SVG du dossier selecteg_svg en PDF"
   ]
  },
  {
   "cell_type": "code",
   "execution_count": 8,
   "id": "6b0ad3d6",
   "metadata": {},
   "outputs": [
    {
     "name": "stdout",
     "output_type": "stream",
     "text": [
      "PDF final créé\n"
     ]
    }
   ],
   "source": [
    "input_dir = Path(\"../svg/pdf_temp\")\n",
    "output_pdf_path = Path(\"../svg/formes_final.pdf\")\n",
    "writer = PdfWriter()\n",
    "\n",
    "pdf_files = sorted(input_dir.glob(\"**/*.pdf\"))\n",
    "\n",
    "for pdf_path in pdf_files:\n",
    "    reader = PdfReader(str(pdf_path))\n",
    "    page = reader.pages[0]\n",
    "\n",
    "    tmp_pdf_path = pdf_path.with_name(f\"{pdf_path.name}\")\n",
    "    c = canvas.Canvas(str(tmp_pdf_path), pagesize=landscape(A4))\n",
    "    \n",
    "\n",
    "    text = pdf_path.stem \n",
    "    x = 750\n",
    "    y = 570\n",
    "    c.setFont(\"Helvetica\", 10)\n",
    "    c.drawString(x, y, text)\n",
    "    c.save()\n",
    "    text_reader = PdfReader(str(tmp_pdf_path))\n",
    "    page.merge_page(text_reader.pages[0])\n",
    "\n",
    "    writer.add_page(page)\n",
    "\n",
    "with open(output_pdf_path, \"wb\") as f:\n",
    "    writer.write(f)\n",
    "\n",
    "print(\"PDF final créé\")\n"
   ]
  }
 ],
 "metadata": {
  "kernelspec": {
   "display_name": ".venv",
   "language": "python",
   "name": "python3"
  },
  "language_info": {
   "codemirror_mode": {
    "name": "ipython",
    "version": 3
   },
   "file_extension": ".py",
   "mimetype": "text/x-python",
   "name": "python",
   "nbconvert_exporter": "python",
   "pygments_lexer": "ipython3",
   "version": "3.13.5"
  }
 },
 "nbformat": 4,
 "nbformat_minor": 5
}
