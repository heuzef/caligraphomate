{
 "cells": [
  {
   "cell_type": "markdown",
   "id": "229defc4",
   "metadata": {},
   "source": [
    "# Code python pour convertir les fichiers SVG en un fichier PDF"
   ]
  },
  {
   "cell_type": "markdown",
   "id": "856e4f73",
   "metadata": {},
   "source": [
    "## Import des librairies"
   ]
  },
  {
   "cell_type": "code",
   "execution_count": 2,
   "id": "cdd8ed90",
   "metadata": {},
   "outputs": [],
   "source": [
    "from pathlib import Path\n",
    "from reportlab.pdfgen import canvas\n",
    "from reportlab.lib.pagesizes import A4, landscape\n",
    "from PyPDF2 import PdfReader, PdfWriter\n",
    "import re\n",
    "import shutil\n",
    "import cairosvg\n",
    "import os\n",
    "from svgwrite import Drawing, text as svg_text\n",
    "from io import BytesIO"
   ]
  },
  {
   "cell_type": "markdown",
   "id": "fa23a99d",
   "metadata": {},
   "source": [
    "## Copie des fichiers SVG"
   ]
  },
  {
   "cell_type": "code",
   "execution_count": null,
   "id": "a1d940f2",
   "metadata": {},
   "outputs": [],
   "source": [
    "from pathlib import Path\n",
    "import re\n",
    "import shutil\n",
    "\n",
    "base_dir = Path(\"../svg\")\n",
    "\n",
    "output_dir = Path(\"../svg/selected_svg\")\n",
    "output_dir.mkdir(exist_ok=True) \n",
    "\n",
    "svg_files = sorted(base_dir.glob(\"**/*.svg\"))\n",
    "\n",
    "pattern = re.compile(r\"(\\d+)(?!.*\\d)\")\n",
    "\n",
    "selected_files = []\n",
    "for svg in svg_files:\n",
    "    match = pattern.search(svg.stem)\n",
    "    if match:\n",
    "        num = int(match.group(1))\n",
    "        if 1 <= num <= 70:\n",
    "            selected_files.append(svg)\n",
    "\n",
    "\n",
    "for svg in selected_files:\n",
    "    subfolder_name = svg.parent.name\n",
    "    subfolder_path = output_dir / subfolder_name\n",
    "    subfolder_path.mkdir(exist_ok=True)\n",
    "    dest = subfolder_path / svg.name\n",
    "    shutil.copy(svg, dest)\n",
    "\n",
    "\n",
    "print(\"Fichiers copiés\")"
   ]
  },
  {
   "cell_type": "markdown",
   "id": "a99b8965",
   "metadata": {},
   "source": [
    "## Conversion des SVG en PDFs"
   ]
  },
  {
   "cell_type": "code",
   "execution_count": 36,
   "id": "d645347d",
   "metadata": {
    "scrolled": true
   },
   "outputs": [
    {
     "name": "stdout",
     "output_type": "stream",
     "text": [
      "Conversion terminée\n"
     ]
    }
   ],
   "source": [
    "source_dir = Path(\"../svg/selected_svg\")\n",
    "output_dir = Path(\"../pdf\")\n",
    "output_dir.mkdir(exist_ok=True)\n",
    "\n",
    "svg_files = sorted(source_dir.glob(\"**/*.svg\"))\n",
    "\n",
    "for svg_path in svg_files:\n",
    "    filename = svg_path.stem\n",
    "\n",
    "    subfolder_name = svg_path.parent.relative_to(source_dir)\n",
    "    output_subfolder = output_dir / subfolder_name\n",
    "    output_subfolder.mkdir(parents=True, exist_ok=True)\n",
    "    pdf_path = output_subfolder / f\"{filename}.pdf\"\n",
    "\n",
    "    cairosvg.svg2pdf(url=str(svg_path), write_to=str(pdf_path))\n",
    "\n",
    "print(\"Conversion terminée\")"
   ]
  },
  {
   "cell_type": "markdown",
   "id": "aa55453d",
   "metadata": {},
   "source": [
    "# Conversion fichiers SVGs en PNGs"
   ]
  },
  {
   "cell_type": "code",
   "execution_count": 3,
   "id": "f261e6e9",
   "metadata": {},
   "outputs": [
    {
     "name": "stdout",
     "output_type": "stream",
     "text": [
      "Conversion terminée\n"
     ]
    }
   ],
   "source": [
    "source_dir = Path(\"../svg/selected_svg\")\n",
    "output_dir = Path(\"../png\")\n",
    "output_dir.mkdir(exist_ok=True)\n",
    "\n",
    "svg_files = sorted(source_dir.glob(\"**/*.svg\"))\n",
    "\n",
    "for svg_path in svg_files:\n",
    "    filename = svg_path.stem\n",
    "\n",
    "    subfolder_name = svg_path.parent.relative_to(source_dir)\n",
    "    output_subfolder = output_dir / subfolder_name\n",
    "    output_subfolder.mkdir(parents=True, exist_ok=True)\n",
    "    png_path = output_subfolder / f\"{filename}.png\"\n",
    "\n",
    "    cairosvg.svg2png(url=str(svg_path), write_to=str(png_path))\n",
    "\n",
    "print(\"Conversion terminée\")"
   ]
  },
  {
   "cell_type": "code",
   "execution_count": null,
   "id": "96eebde7-0fd6-46ef-8f3b-397b692e1349",
   "metadata": {},
   "outputs": [],
   "source": []
  },
  {
   "cell_type": "code",
   "execution_count": null,
   "id": "cd2f9cc6-05ff-4c44-b6b7-f45eb116627b",
   "metadata": {},
   "outputs": [],
   "source": []
  }
 ],
 "metadata": {
  "kernelspec": {
   "display_name": "Python 3 (ipykernel)",
   "language": "python",
   "name": "python3"
  },
  "language_info": {
   "codemirror_mode": {
    "name": "ipython",
    "version": 3
   },
   "file_extension": ".py",
   "mimetype": "text/x-python",
   "name": "python",
   "nbconvert_exporter": "python",
   "pygments_lexer": "ipython3",
   "version": "3.12.3"
  }
 },
 "nbformat": 4,
 "nbformat_minor": 5
}
