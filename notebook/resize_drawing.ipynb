{
 "cells": [
  {
   "cell_type": "code",
   "execution_count": 24,
   "id": "21e38286-6ca6-4ed5-b2f0-abaa30dd4d01",
   "metadata": {},
   "outputs": [
    {
     "name": "stdout",
     "output_type": "stream",
     "text": [
      "Good\n"
     ]
    }
   ],
   "source": [
    "import os\n",
    "from lxml import etree\n",
    "\n",
    "input_folder = \"../svg/drawing\"  \n",
    "output_folder = \"../svg/select_drawing\"\n",
    "\n",
    "A4_width = 297\n",
    "A4_height = 210\n",
    "A5_width = 210\n",
    "A5_height = 148\n",
    "\n",
    "numbers_to_process = [1, 4, 6, 12, 16, 18, 20,21,25,26,27,28,32,37,38,40,42,43,46,47,48,\n",
    "                     53,58,60,64,66,98,101,110,138,167,165,166,173,202,204,223,264,263,272,306,\n",
    "                     111,120,125,135,144,214,213,211,222,226,227,228,237,246,255,262,274,285,284,291,290,289,300,\n",
    "                     305,163,82,84,71,69,77,76,75,73,85,92,95,115,123,124]  \n",
    "files_to_process = [f\"drawing_{i:03}.svg\" for i in numbers_to_process]\n",
    "\n",
    "\n",
    "# Conversion pour px → mm\n",
    "def to_mm(value):\n",
    "    if value.endswith(\"mm\"):\n",
    "        return float(value.replace(\"mm\", \"\"))\n",
    "    elif value.endswith(\"px\"):\n",
    "        return float(value.replace(\"px\", \"\")) * 0.264583\n",
    "    elif value.endswith(\"pt\"):\n",
    "        return float(value.replace(\"pt\", \"\")) * 0.352778\n",
    "    else:\n",
    "        return float(value)\n",
    "\n",
    "os.makedirs(output_folder, exist_ok=True)\n",
    "\n",
    "for filename in files_to_process:\n",
    "    input_path = os.path.join(input_folder, filename)\n",
    "    output_path = os.path.join(output_folder, filename)\n",
    "\n",
    "    tree = etree.parse(input_path)\n",
    "    root = tree.getroot()\n",
    "    svg_width = to_mm(root.get(\"width\", \"0\"))\n",
    "    svg_height = to_mm(root.get(\"height\", \"0\"))\n",
    "\n",
    "    viewBox = root.get(\"viewBox\")\n",
    "    if viewBox:\n",
    "        vb_x, vb_y, vb_width, vb_height = map(float, viewBox.split())\n",
    "    else:\n",
    "        vb_width, vb_height = svg_width, svg_height\n",
    "\n",
    "    # Calcul du facteur de scale pour tenir dans A5\n",
    "    scale_factor = min(A5_width / vb_width, A5_height / vb_height)\n",
    "    scaled_width = vb_width * scale_factor\n",
    "    scaled_height = vb_height * scale_factor\n",
    "\n",
    "    translate_x = (A4_width - scaled_width) / 2\n",
    "    translate_y = (A4_height - scaled_height) / 2\n",
    "\n",
    "    # Nouveau SVG racine pour la feuille A4\n",
    "    new_root = etree.Element(\"svg\", nsmap=root.nsmap)\n",
    "    new_root.attrib[\"width\"] = str(A4_width)\n",
    "    new_root.attrib[\"height\"] = str(A4_height)\n",
    "    new_root.attrib[\"viewBox\"] = f\"0 0 {A4_width} {A4_height}\"\n",
    "\n",
    "    # Rectangle blanc pour la feuille A4\n",
    "    rect = etree.Element(\"rect\")\n",
    "    rect.attrib[\"x\"] = \"0\"\n",
    "    rect.attrib[\"y\"] = \"0\"\n",
    "    rect.attrib[\"width\"] = str(A4_width)\n",
    "    rect.attrib[\"height\"] = str(A4_height)\n",
    "    rect.attrib[\"fill\"] = \"white\"\n",
    "    new_root.append(rect)\n",
    "\n",
    "    g = etree.Element(\"g\")\n",
    "    g.attrib[\"transform\"] = f\"translate({translate_x},{translate_y}) scale({scale_factor})\"\n",
    "    for child in root:\n",
    "        g.append(child)\n",
    "\n",
    "    new_root.append(g)\n",
    "    new_tree = etree.ElementTree(new_root)\n",
    "    new_tree.write(output_path, pretty_print=True, xml_declaration=True, encoding=\"UTF-8\")\n",
    "\n",
    "print(\"Good\")\n"
   ]
  },
  {
   "cell_type": "code",
   "execution_count": null,
   "id": "3718f6ff-9ff5-4b99-b3e1-332ade91b7b8",
   "metadata": {},
   "outputs": [],
   "source": []
  }
 ],
 "metadata": {
  "kernelspec": {
   "display_name": "Python 3 (ipykernel)",
   "language": "python",
   "name": "python3"
  },
  "language_info": {
   "codemirror_mode": {
    "name": "ipython",
    "version": 3
   },
   "file_extension": ".py",
   "mimetype": "text/x-python",
   "name": "python",
   "nbconvert_exporter": "python",
   "pygments_lexer": "ipython3",
   "version": "3.12.3"
  }
 },
 "nbformat": 4,
 "nbformat_minor": 5
}
